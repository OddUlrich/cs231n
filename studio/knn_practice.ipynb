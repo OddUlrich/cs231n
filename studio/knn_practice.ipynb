{
 "cells": [
  {
   "cell_type": "markdown",
   "metadata": {},
   "source": [
    "# k-Nearest Neighbor (KNN) practice\n",
    "Basic Image Classification and cross-validation."
   ]
  },
  {
   "cell_type": "code",
   "execution_count": null,
   "metadata": {},
   "outputs": [],
   "source": [
    "import matplotlib.pyplot as plt\n",
    "from data_utils import load_CIFAR10\n",
    "import random\n",
    "import numpy as np\n",
    "# It makes matplotlib figures appear inline in the notebook\n",
    "# rather than in a new window.\n",
    "%matplotlib inline\n",
    "plt.rcParams['figure.figsize'] = (10.0, 8.0) # set default size of plots\n",
    "plt.rcParams['image.interpolation'] = 'nearest'\n",
    "plt.rcParams['image.cmap'] = 'gray'\n",
    "\n",
    "# Some more magic so that the notebook will reload external python modules.\n",
    "%load_ext autoreload\n",
    "%autoreload 2"
   ]
  },
  {
   "cell_type": "code",
   "execution_count": null,
   "metadata": {},
   "outputs": [],
   "source": [
    "# Load the data from each batch.\n",
    "data_dir = \"./datasets/cifar-10-batches-py\"\n",
    "X_train, Y_train, X_test, Y_test = load_CIFAR10(data_dir)\n",
    "\n",
    "# Check the size of training data and test data.\n",
    "print \"Training data shape: \", X_train.shape\n",
    "print \"Training labels shape: \", Y_train.shape\n",
    "print \"Test date shape: \", X_test.shape\n",
    "print \"Test labels shape: \", Y_test.shape"
   ]
  },
  {
   "cell_type": "markdown",
   "metadata": {},
   "source": [
    "## Visualize some examples from the dataset."
   ]
  },
  {
   "cell_type": "code",
   "execution_count": null,
   "metadata": {
    "scrolled": true
   },
   "outputs": [],
   "source": [
    "classes = ['plane', 'car', 'bird', 'cat', 'deer', 'dog', 'frog', 'horse', 'ship', 'truck']\n",
    "num_classes = len(classes)\n",
    "samples_per_class = 7\n",
    "for y, cls in enumerate(classes):\n",
    "    idxs = np.flatnonzero(Y_train == y)\n",
    "    idxs = np.random.choice(idxs, samples_per_class, replace=False)\n",
    "    for i, idx in enumerate(idxs):\n",
    "        plt_idx = i * num_classes + y + 1\n",
    "        plt.subplot(samples_per_class, num_classes, plt_idx)\n",
    "        plt.imshow(X_train[idx].astype('uint8'))\n",
    "        plt.axis('off')\n",
    "        if i == 0:\n",
    "            plt.title(cls)\n",
    "plt.show()"
   ]
  },
  {
   "cell_type": "markdown",
   "metadata": {},
   "source": [
    "## Training the model.\n",
    "**The training process of k-NN is to simply remember the data.**\n",
    " "
   ]
  },
  {
   "cell_type": "code",
   "execution_count": null,
   "metadata": {
    "scrolled": true
   },
   "outputs": [],
   "source": [
    "# Initialize a group of subsample.\n",
    "num_training = 1000\n",
    "mask = range(num_training)\n",
    "X_train = X_train[mask]\n",
    "Y_train = Y_train[mask]\n",
    "\n",
    "num_test = 100\n",
    "mask = range(num_test)\n",
    "X_test = X_test[mask]\n",
    "Y_test = Y_test[mask]"
   ]
  },
  {
   "cell_type": "code",
   "execution_count": null,
   "metadata": {},
   "outputs": [],
   "source": [
    "# Reshape the image data into rows\n",
    "X_train = X_train.reshape(X_train.shape[0], -1)\n",
    "X_test = X_test.reshape(X_test.shape[0], -1)\n",
    "Y_train = X_train.reshape(X_train.shape[0], -1)\n",
    "Y_test = X_test.reshape(X_test.shape[0], -1)\n",
    "\n",
    "# Check the size of lists after reshape.\n",
    "print \"X_train: \", X_train.shape\n",
    "print \"X_test: \", X_test.shape"
   ]
  },
  {
   "cell_type": "markdown",
   "metadata": {},
   "source": [
    "# Predict the labels of test data."
   ]
  },
  {
   "cell_type": "code",
   "execution_count": null,
   "metadata": {},
   "outputs": [],
   "source": [
    "# Define a group of function to compute the distances between test data and training data.\n",
    "# Here L2 distance is used.\n",
    "# By comparing the distances to predict the labels of test data.\n",
    "def two_loop_distance(X_train, X_test):    \n",
    "    num_train = X_train.shape[0]\n",
    "    num_test = X_test.shape[0]\n",
    "    \n",
    "    dists = np.zeros((num_test, num_train))\n",
    "\n",
    "#     print \"X_test[2] shape: \", X_test[2].shape\n",
    "#     print \"X_train[2] shape: \", X_train[2].shape\n",
    "        \n",
    "    for i in xrange(num_test):\n",
    "        for j in xrange(num_train):\n",
    "            dists[i, j] = np.sqrt(np.sum((X_test[i] - X_train[j]) ** 2))\n",
    "    return dists\n",
    "\n",
    "def one_loop_distance(X_train, X_test):\n",
    "    num_train = X_train.shape[0]\n",
    "    num_test = X_test.shape[0]\n",
    "    \n",
    "    dists = np.zeros((num_test, num_train))\n",
    "    \n",
    "#     print \"X_test[2] shape: \", X_test[2].shape\n",
    "#     print \"X_train shape: \", X_train.shape\n",
    "        \n",
    "    for i in xrange(num_test):\n",
    "        dists[i, :] = np.sqrt(np.sum((X_test[i] - X_train) ** 2, axis = 1))\n",
    "    return dists\n",
    "    \n",
    "def no_loop_distance(X_train, X_test):    \n",
    "    num_train = X_train.shape[0]\n",
    "    num_test = X_test.shape[0]\n",
    "    \n",
    "#     print \"X_test shape: \", X_test.shape\n",
    "#     print \"X_train shape: \", X_train.shape\n",
    "    \n",
    "    dists = np.zeros((num_test, num_train))\n",
    "    \n",
    "    X_test_square_sum = np.sum(X_test ** 2, axis = 1, keepdims = True)\n",
    "    X_train_square_sum = np.sum(X_train ** 2, axis = 1)\n",
    "    dists = np.sqrt(X_test_square_sum + X_train_square_sum - 2 * np.dot(X_test, X_train.T))\n",
    "    \n",
    "#     print \"=====================================\"\n",
    "#     print \"X_test_square_sum shape: \", X_test_square_sum.shape\n",
    "#     print \"X_train_square_sum shape: \", X_train_square_sum.shape\n",
    "#     print \"dists shape: \", dists.shape\n",
    "   \n",
    "    return dists"
   ]
  },
  {
   "cell_type": "code",
   "execution_count": null,
   "metadata": {},
   "outputs": [],
   "source": [
    "# Use k-NN to predict the labels of test data.\n",
    "def predict(dists, Y_train, Y_test, k=1):\n",
    "    # Ensure the shape is matched.\n",
    "#     print \"Y_test shape: \", Y_test.shape\n",
    "#     print \"Y_train shape: \", Y_train.shape  \n",
    "#     print \"dists shape: \", dists.shape  \n",
    "  \n",
    "    assert(dists.shape == (Y_test.shape[0], Y_train.shape[0]))\n",
    "    \n",
    "    num_test = Y_test.shape[0]\n",
    "    Y_pred = np.zeros(num_test)\n",
    "    \n",
    "    # np.argsort return an array of the indexes of smallest value in the source list.\n",
    "    for i in xrange(num_test):\n",
    "        Y_closest = []\n",
    "        Y_train = np.argsort(dists[i, :])\n",
    "        Y_closest = Y_train[: k]\n",
    "    \n",
    "        # np.argmax return the value appears for the most time in the source array\n",
    "        cnt = np.bincount(Y_closest)\n",
    "        Y_pred[i] = np.argmax(cnt)\n",
    "        \n",
    "    return Y_pred  "
   ]
  },
  {
   "cell_type": "code",
   "execution_count": null,
   "metadata": {
    "collapsed": true
   },
   "outputs": [],
   "source": [
    "# Compute the two loop dists between training images and test images.\n",
    "dists = two_loop_distance(X_train, X_test)\n",
    "\n",
    "# Compute the accuracy of correct examples with k = 1.\n",
    "Y_pred = predict(dists, Y_train, Y_test, k = 1)\n",
    "num_correct = np.sum(Y_pred == Y_test)\n",
    "accuracy = float(num_correct) / num_test\n",
    "print \"Correct: %d / %d ; The accuracy is %f\" % (num_correct, num_test, accuracy)"
   ]
  },
  {
   "cell_type": "markdown",
   "metadata": {
    "collapsed": true
   },
   "source": [
    "## Cross validation\n",
    "In this part, we determine the hyperparameter k with cross-validation."
   ]
  },
  {
   "cell_type": "code",
   "execution_count": null,
   "metadata": {
    "scrolled": true
   },
   "outputs": [],
   "source": [
    "num_folds = 5\n",
    "# k_choice = [1, 3, 5, 8, 10, 15, 20, 50, 100]\n",
    "k_choice = [3, 5]\n",
    "\n",
    "X_train_folds = []\n",
    "Y_train_folds = []\n",
    "\n",
    "# Split the data into folds.\n",
    "X_train_folds = np.split(X_train, num_folds)\n",
    "Y_train_folds = np.split(Y_train, num_folds)\n",
    "    \n",
    "# A dictionary stored the result with the format of \"k\": \"accuracy\".\n",
    "k_accuracy = {}\n",
    "\n",
    "for k in k_choice:\n",
    "    k_accuracy[k] = []\n",
    "    for i in xrange(num_folds):\n",
    "        X_train_val = np.concatenate(X_train_folds[0: i] + X_train_folds[i+1: ])\n",
    "        Y_train_val = np.concatenate(Y_train_folds[0: i] + Y_train_folds[i+1: ])\n",
    "        X_valid = X_train_folds[i]\n",
    "        Y_valid = Y_train_folds[i]\n",
    " \n",
    "        # Predict the labels of validation folds.\n",
    "        dists = two_loop_distance(X_train_val, X_valid)\n",
    "        Y_pred_val = predict(dists, Y_train_val, Y_valid, k=k)\n",
    "        num_pred_val = np.sum(Y_pred_val == Y_valid)\n",
    "        accuracy = float(num_pred_val) / Y_pred_val.shape[0]\n",
    "        k_accuracy[k] = k_accuracy.get(k,[]) + [accuracy]\n",
    "         \n",
    "\n",
    "# Print out the computed accuracies.\n",
    "for k in sorted(k_accuracy):\n",
    "    for accuracy in k_accuracy[k]:\n",
    "        print \"k = %d, accuracy = %f\" % (k, accuracy)\n",
    "    "
   ]
  },
  {
   "cell_type": "code",
   "execution_count": null,
   "metadata": {
    "collapsed": true
   },
   "outputs": [],
   "source": [
    "# Plot the raw observation.\n",
    "for k in k_choices:\n",
    "    accuracies = k_accuracy[k]\n",
    "    plt.scatter([k] * len(accuracies), accuracies)\n",
    "\n",
    "# plot the trend line with error bars that correspond to standard deviation\n",
    "accuracies_mean = np.array([np.mean(v) for k,v in sorted(k_accuracy.items())])\n",
    "accuracies_std = np.array([np.std(v) for k,v in sorted(k_accuracy.items())])\n",
    "plt.errorbar(k_choices, accuracies_mean, yerr=accuracies_std)\n",
    "plt.title('Cross-validation on k')\n",
    "plt.xlabel('k')\n",
    "plt.ylabel('Cross-validation accuracy')\n",
    "plt.show()"
   ]
  },
  {
   "cell_type": "code",
   "execution_count": null,
   "metadata": {
    "collapsed": true
   },
   "outputs": [],
   "source": [
    "\n"
   ]
  }
 ],
 "metadata": {
  "kernelspec": {
   "display_name": "Python 2",
   "language": "python",
   "name": "python2"
  },
  "language_info": {
   "codemirror_mode": {
    "name": "ipython",
    "version": 2
   },
   "file_extension": ".py",
   "mimetype": "text/x-python",
   "name": "python",
   "nbconvert_exporter": "python",
   "pygments_lexer": "ipython2",
   "version": "2.7.13"
  }
 },
 "nbformat": 4,
 "nbformat_minor": 2
}
